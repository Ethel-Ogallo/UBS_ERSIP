


import rasterio
import numpy as np
import matplotlib.pyplot as plt



# load image 
from skimage import data

img = data.coins()
plt.imshow(img, cmap ='gray')
plt.show()





# template image
img_temp = img[100:150, 20:70]

plt.imshow(img_temp, cmap ='gray')
# plt.grid('off')
plt.show()


import time
from skimage.feature import match_template

start = time.process_time()
result = match_template(img, img_temp)
ij = np.unravel_index(np.argmax(result), result.shape)
x, y = ij[::-1]

end = time.process_time()
print("Naive approach time:", end - start)





from skimage.feature import draw_multiblock_lbp
from skimage.transform import integral_image

# integral image
int_img = integral_image(img)

# computation
start = time.process_time()
result2 = match_template(int_img, img_temp)
ij = np.unravel_index(np.argmax(result), result2.shape)
x, y = ij[::-1]
end = time.process_time()

print("efficient approach time:", end - start)

