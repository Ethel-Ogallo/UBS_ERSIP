








import cv2
import numpy as np
import rasterio
import matplotlib.pyplot as plt


# load image
src = rasterio.open(r'Data/m_3411862_sw_11_060_20200505.tif')
img = src.read([1,2,3])  # read RGB bands 
rgb = np.transpose(img, (1, 2, 0))

# display image
plt.figure(figsize=(8,8))
plt.imshow(rgb)
plt.show()





import cv2

# grayscale image
img_gray = src.read(1)  # read first band

'''Harris edge detector:
    1) 17 = block size (size of neighborhood for corner detection. Large values less small detail; smaller values more noise).
    2) 21 = k size; aperture parameter for the Sobel operator (gradient calculation). Larger= gradient computation is smoother; reduces noise, corners are broader.
        Smaller = sharper gradients; may detect more corners, including noise.
    3) 0.01 = Harris detector free parameter k (sensitivity to corners).Lower more points considered corners, may include edges; Higher fewer points, only strong corners are kept.
    4) Output is an array of the same size as the image, where higher values indicate stronger corners.
'''
edges = cv2.cornerHarris(img_gray, 17, 21, 0.01)  
edges = cv2.dilate(edges, None)

# mark corners on the original image
rgb[edges > 0.01 * edges.max()] = [0, 0, 255]
img_rgb = cv2.cvtColor(rgb, cv2.COLOR_BGR2RGB)

plt.figure(figsize=(8,8))
plt.imshow(img_rgb)
plt.title('Harris Corner Detection')
plt.axis('off')  
plt.show()





import cv2
import numpy as np
import matplotlib.pyplot as plt

# Adaptive Canny edge detection 
median_val = np.median(img_gray)
lower = int(max(0, 0.66 * median_val))
upper = int(min(255, 1.33 * median_val))
edges = cv2.Canny(img_gray, lower, upper)

# Full Hough Transform (all lines)
lines = cv2.HoughLines(edges, 1, np.pi/180, threshold=0)  # threshold=0 to get all votes

# Extract anglesb
thetas = np.array([theta for rho, theta in lines[:,0,:]])
angles = np.degrees(thetas)          # radians → degrees
angles = (angles + 180) % 180 - 90   # wrap to [-90, 90]

# Histogram to find main orientations
hist, bin_edges = np.histogram(angles, bins=36, range=(-90, 90))  # 5° bins
top_indices = np.argsort(hist)[-3:]  # top 3 dominant angles
main_orientations = bin_edges[top_indices]

print("Main line orientations (degrees):", main_orientations)


width, height = img_rgb.shape[1], img_rgb.shape[0]

# Create a copy to draw on
img_overlay = img_rgb.copy()

for angle in main_orientations:
    theta_rad = np.radians(angle)
    # Draw line through image center
    x0, y0 = width // 2, height // 2
    length = max(width, height)
    x1 = int(x0 + length * np.cos(theta_rad))
    y1 = int(y0 + length * np.sin(theta_rad))
    x2 = int(x0 - length * np.cos(theta_rad))
    y2 = int(y0 - length * np.sin(theta_rad))
    cv2.line(img_overlay, (x1, y1), (x2, y2), (255,0,0), 2)  # blue lines

# Plot the image with overlay
plt.figure(figsize=(8,8))
plt.imshow(cv2.cvtColor(img_overlay, cv2.COLOR_BGR2RGB))
plt.title("Dominant Line Orientations Overlay")
plt.axis("off")
plt.show()





import os
import random
import shutil

# Path to the dataset
dataset_path = r"Data/UCMerced_LandUse/Images" 
output_path = r"Data/UCMerced_LandUse_random"

# Make output folder if it doesn't exist
os.makedirs(output_path, exist_ok=True)

# List all class folders
classes = [cls for cls in os.listdir(dataset_path) if os.path.isdir(os.path.join(dataset_path, cls))]
print("Detected classes:", classes)

# Allowed image extensions
valid_extensions = ('.tif', '.tiff', '.jpg', '.jpeg', '.png')

# Loop through classes and randomly select 10 images
for cls in classes:
    class_folder = os.path.join(dataset_path, cls)
    # List all valid images in the class folder
    images = [f for f in os.listdir(class_folder) if f.lower().endswith(valid_extensions)]
    # print(f"Class '{cls}' has {len(images)} images")
    if not images:
        print(f"No images found in class '{cls}', skipping.")
        continue
    # Randomly select 10 images (or all if less than 10)
    selected_images = random.sample(images, min(10, len(images)))
    # Create folder for this class in output
    output_class_folder = os.path.join(output_path, cls)
    os.makedirs(output_class_folder, exist_ok=True)
    # Copy selected images
    for img_file in selected_images:
        src_file = os.path.join(class_folder, img_file)
        dst_file = os.path.join(output_class_folder, img_file)
        shutil.copy2(src_file, dst_file)

print("\nRandom selection of 10 images per class completed.")






import mahotas

# Path to the random selection folder
classes_path = r"Data/UCMerced_LandUse_random"  # each class is a subfolder

# List all class folders
classes = [cls for cls in os.listdir(classes_path) if os.path.isdir(os.path.join(classes_path, cls))]
print("Detected classes:", classes)

# Dictionary to store features per class
features_dict = {}

# Loop through classes and compute Haralick features
for cls in classes:
    class_folder = os.path.join(classes_path, cls)
    images_in_class = [f for f in os.listdir(class_folder) if f.lower().endswith(('.tif', '.tiff', '.jpg', '.jpeg', '.png'))]
    if not images_in_class:
        print(f"Class '{cls}' has no images, skipping.")
        continue
    features_dict[cls] = []
    for img_file in images_in_class:
        img_path = os.path.join(class_folder, img_file)
        img = cv2.imread(img_path, cv2.IMREAD_GRAYSCALE)
        if img is None:
            print(f"Failed to read image: {img_path}")
            continue
        
        # Compute Haralick features (13 features per image)
        haralick_features = mahotas.features.haralick(img).mean(axis=0)
        features_dict[cls].append(haralick_features)
        # print(f"Computed features for {cls}/{img_file}, shape: {haralick_features.shape}")

# Summary
print("\n--- Summary ---")
for cls in features_dict:
    num_images = len(features_dict[cls])
    if num_images > 0:
        num_features = len(features_dict[cls][0])
        print(f"Class '{cls}': {num_images} images, {num_features} features each")
    else:
        print(f"Class '{cls}': 0 images, 0 features")






import os
import cv2
import mahotas
import numpy as np
import matplotlib.pyplot as plt

# -------------------------
# Paths
# -------------------------
classes_path = r"Data/UCMerced_LandUse_random"  # reference images
query_image_path = r"Data/UCMerced_LandUse_random/agricultural/agricultural02.tif"  # query image

# -------------------------
# Flatten features_dict for retrieval
# -------------------------
ref_features = []
ref_labels = []
ref_image_paths = []

for cls in features_dict:
    class_folder = os.path.join(classes_path, cls)
    images_in_class = [f for f in os.listdir(class_folder) if f.lower().endswith(('.tif', '.tiff', '.jpg', '.jpeg', '.png'))]

    for img_file, f in zip(images_in_class, features_dict[cls]):
        full_path = os.path.join(class_folder, img_file)
        # Skip the query image itself
        if os.path.abspath(full_path) == os.path.abspath(query_image_path):
            continue

        ref_features.append(f)
        ref_labels.append(cls)
        ref_image_paths.append(full_path)

ref_features = np.array(ref_features)
print(f"Prepared {len(ref_features)} reference images for retrieval (query excluded).")

# -------------------------
# Compute features for the query image
# -------------------------
query_img = cv2.imread(query_image_path, cv2.IMREAD_GRAYSCALE)
if query_img is None:
    raise ValueError(f"Query image not found: {query_image_path}")

query_feature = mahotas.features.haralick(query_img).mean(axis=0)

# -------------------------
# Compute distances and find nearest neighbors
# -------------------------
distances = np.linalg.norm(ref_features - query_feature, axis=1)
sorted_idx = np.argsort(distances)
top_k = 5

print(f"\nTop {top_k} nearest neighbors:")
for rank, idx in enumerate(sorted_idx[:top_k]):
    print(f"{rank+1}: {ref_labels[idx]} (distance={distances[idx]:.3f}) - {ref_image_paths[idx]}")




# Visualize query and retrieved images
plt.figure(figsize=(15,5))

# Show query image
plt.subplot(1, top_k+1, 1)
plt.imshow(query_img, cmap='gray')
plt.title("Query")
plt.axis('off')

# Show retrieved images
for i, idx in enumerate(sorted_idx[:top_k]):
    retrieved_img = cv2.imread(ref_image_paths[idx])
    if retrieved_img is None:
        print(f"Failed to read image: {ref_image_paths[idx]}")
        continue
    retrieved_img = cv2.cvtColor(retrieved_img, cv2.COLOR_BGR2RGB)

    plt.subplot(1, top_k+1, i+2)
    plt.imshow(retrieved_img)
    plt.title(ref_labels[idx])
    plt.axis('off')

plt.tight_layout()
plt.show()




