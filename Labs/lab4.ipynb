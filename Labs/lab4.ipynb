{
 "cells": [
  {
   "cell_type": "markdown",
   "id": "c08b92fe",
   "metadata": {},
   "source": [
    "ERSIP Lab Sessions    \n",
    "Lab 4: Image features  \n",
    "09-10-2025"
   ]
  },
  {
   "cell_type": "markdown",
   "id": "e5d6ddac",
   "metadata": {},
   "source": [
    "**Load an image containing crossing edges e.g., a US-like urban RS image**"
   ]
  },
  {
   "cell_type": "code",
   "execution_count": null,
   "id": "0e0bc8d4",
   "metadata": {},
   "outputs": [],
   "source": []
  },
  {
   "cell_type": "markdown",
   "id": "287b7075",
   "metadata": {},
   "source": [
    "**Extract the corners with Harris detector e.g, road junctions**"
   ]
  },
  {
   "cell_type": "code",
   "execution_count": null,
   "id": "e1ed1089",
   "metadata": {},
   "outputs": [],
   "source": []
  },
  {
   "cell_type": "markdown",
   "id": "37e7305d",
   "metadata": {},
   "source": [
    "**Compute the main orientations with Hough transform**"
   ]
  },
  {
   "cell_type": "code",
   "execution_count": null,
   "id": "49672ec2",
   "metadata": {},
   "outputs": [],
   "source": []
  },
  {
   "cell_type": "markdown",
   "id": "5425976b",
   "metadata": {},
   "source": [
    "**Download the UC Merced Land Use dataset**"
   ]
  },
  {
   "cell_type": "code",
   "execution_count": null,
   "id": "2293b6a9",
   "metadata": {},
   "outputs": [],
   "source": []
  },
  {
   "cell_type": "markdown",
   "id": "82801ea7",
   "metadata": {},
   "source": [
    "**Select randomly 10 images per class**"
   ]
  },
  {
   "cell_type": "code",
   "execution_count": null,
   "id": "bb6bfb7f",
   "metadata": {},
   "outputs": [],
   "source": []
  },
  {
   "cell_type": "markdown",
   "id": "f3fc9fd4",
   "metadata": {},
   "source": [
    "**Compute the Haralick features for these images**"
   ]
  },
  {
   "cell_type": "code",
   "execution_count": null,
   "id": "c25009a1",
   "metadata": {},
   "outputs": [],
   "source": []
  },
  {
   "cell_type": "markdown",
   "id": "4fa170e7",
   "metadata": {},
   "source": [
    "**Apply a basic retrieval scheme through computing features on an input image and looking for its nearest neighbors among the reference images**"
   ]
  },
  {
   "cell_type": "code",
   "execution_count": null,
   "id": "b51b20f7",
   "metadata": {},
   "outputs": [],
   "source": []
  }
 ],
 "metadata": {
  "kernelspec": {
   "display_name": "lab_ersip",
   "language": "python",
   "name": "python3"
  },
  "language_info": {
   "name": "python",
   "version": "3.10.18"
  }
 },
 "nbformat": 4,
 "nbformat_minor": 5
}
